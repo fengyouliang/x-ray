{
 "cells": [
  {
   "cell_type": "code",
   "execution_count": 3,
   "metadata": {
    "ExecuteTime": {
     "end_time": "2020-07-09T08:15:14.213413Z",
     "start_time": "2020-07-09T08:15:13.973059Z"
    }
   },
   "outputs": [],
   "source": [
    "import numpy as np\n",
    "import matplotlib.pyplot as plt\n",
    "import p\n",
    "from pycocotools.coco import COCO"
   ]
  },
  {
   "cell_type": "code",
   "execution_count": 6,
   "metadata": {
    "ExecuteTime": {
     "end_time": "2020-07-09T08:17:32.287217Z",
     "start_time": "2020-07-09T08:17:32.285196Z"
    }
   },
   "outputs": [],
   "source": [
    "data_path = 'E:/download/iFYTEK/x_ray/dataset/coco'\n",
    "\n",
    "coco_json = f'{data_path}/annotations/fold0/all.json'"
   ]
  },
  {
   "cell_type": "code",
   "execution_count": null,
   "metadata": {},
   "outputs": [],
   "source": []
  },
  {
   "cell_type": "code",
   "execution_count": null,
   "metadata": {},
   "outputs": [],
   "source": []
  },
  {
   "cell_type": "code",
   "execution_count": 11,
   "metadata": {
    "ExecuteTime": {
     "end_time": "2020-07-09T08:19:02.587105Z",
     "start_time": "2020-07-09T08:19:02.477401Z"
    },
    "scrolled": true
   },
   "outputs": [
    {
     "name": "stdout",
     "output_type": "stream",
     "text": [
      "loading annotations into memory...\n",
      "Done (t=0.10s)\n",
      "creating index...\n",
      "index created!\n"
     ]
    },
    {
     "data": {
      "text/plain": [
       "[100001, 100002, 100003, 100004, 100005]"
      ]
     },
     "execution_count": 11,
     "metadata": {},
     "output_type": "execute_result"
    }
   ],
   "source": [
    "coco = COCO(coco_json)\n",
    "\n",
    "imgIds = coco.getImgIds()\n",
    "imgIds[:5]"
   ]
  },
  {
   "cell_type": "code",
   "execution_count": 21,
   "metadata": {
    "ExecuteTime": {
     "end_time": "2020-07-09T08:20:57.367140Z",
     "start_time": "2020-07-09T08:20:57.364125Z"
    }
   },
   "outputs": [],
   "source": [
    "img_id = 100008"
   ]
  },
  {
   "cell_type": "code",
   "execution_count": 22,
   "metadata": {
    "ExecuteTime": {
     "end_time": "2020-07-09T08:20:57.697732Z",
     "start_time": "2020-07-09T08:20:57.693768Z"
    }
   },
   "outputs": [
    {
     "data": {
      "text/plain": [
       "{'height': 453, 'width': 937, 'id': 100008, 'filename': '100008.jpg'}"
      ]
     },
     "execution_count": 22,
     "metadata": {},
     "output_type": "execute_result"
    }
   ],
   "source": [
    "image_info = coco.loadImgs(ids=img_id)[0]\n",
    "image_info"
   ]
  },
  {
   "cell_type": "code",
   "execution_count": 23,
   "metadata": {
    "ExecuteTime": {
     "end_time": "2020-07-09T08:20:58.201384Z",
     "start_time": "2020-07-09T08:20:58.196397Z"
    }
   },
   "outputs": [
    {
     "data": {
      "text/plain": [
       "[{'image_id': 100008,\n",
       "  'id': 7,\n",
       "  'category_id': 3,\n",
       "  'bbox': [116.0, 223.0, 30.0, 91.0],\n",
       "  'segmentation': [[116.0, 223.0, 116.0, 314.0, 146.0, 314.0, 146.0, 223.0]],\n",
       "  'area': 2730.0,\n",
       "  'iscrowd': 0},\n",
       " {'image_id': 100008,\n",
       "  'id': 8,\n",
       "  'category_id': 3,\n",
       "  'bbox': [103.0, 141.0, 59.0, 68.0],\n",
       "  'segmentation': [[103.0, 141.0, 103.0, 209.0, 162.0, 209.0, 162.0, 141.0]],\n",
       "  'area': 4012.0,\n",
       "  'iscrowd': 0},\n",
       " {'image_id': 100008,\n",
       "  'id': 9,\n",
       "  'category_id': 3,\n",
       "  'bbox': [123.0, 147.0, 49.0, 67.0],\n",
       "  'segmentation': [[123.0, 147.0, 123.0, 214.0, 172.0, 214.0, 172.0, 147.0]],\n",
       "  'area': 3283.0,\n",
       "  'iscrowd': 0}]"
      ]
     },
     "execution_count": 23,
     "metadata": {},
     "output_type": "execute_result"
    }
   ],
   "source": [
    "annIds = coco.getAnnIds(imgIds=img_id, iscrowd=None)\n",
    "ann_info = coco.loadAnns(annIds)\n",
    "ann_info"
   ]
  },
  {
   "cell_type": "code",
   "execution_count": null,
   "metadata": {},
   "outputs": [],
   "source": []
  },
  {
   "cell_type": "code",
   "execution_count": null,
   "metadata": {},
   "outputs": [],
   "source": []
  },
  {
   "cell_type": "markdown",
   "metadata": {},
   "source": [
    "## image information"
   ]
  },
  {
   "cell_type": "code",
   "execution_count": 28,
   "metadata": {
    "ExecuteTime": {
     "end_time": "2020-07-09T08:28:43.270678Z",
     "start_time": "2020-07-09T08:28:43.260706Z"
    }
   },
   "outputs": [],
   "source": [
    "imgIds = coco.getImgIds()\n",
    "\n",
    "hs, ws, areas = [], [], []\n",
    "\n",
    "for img_id in imgIds:\n",
    "    image_info = coco.loadImgs(ids=img_id)[0]\n",
    "    h = image_info['height']\n",
    "    w = image_info['width']\n",
    "    image_area = w * h\n",
    "    hs.append(h)\n",
    "    ws.append(w)\n",
    "    areas.append(image_area)\n",
    "\n",
    "hs = np.array(hs)\n",
    "ws = np.array(ws)\n",
    "areas = np.array(areas)"
   ]
  },
  {
   "cell_type": "code",
   "execution_count": 32,
   "metadata": {
    "ExecuteTime": {
     "end_time": "2020-07-09T08:32:30.752668Z",
     "start_time": "2020-07-09T08:32:30.661903Z"
    }
   },
   "outputs": [
    {
     "data": {
      "image/png": "[encoded data removed]",
      "text/plain": [
       "<Figure size 432x288 with 1 Axes>"
      ]
     },
     "metadata": {
      "needs_background": "light"
     },
     "output_type": "display_data"
    }
   ],
   "source": [
    "import matplotlib.pyplot as plt\n",
    "plt.title(\"W H scatter diagram.\")\n",
    "max_size = max(max(ws), max(hs))\n",
    "plt.xlim(xmax=max_size,xmin=0)\n",
    "plt.ylim(ymax=max_size,ymin=0)\n",
    "plt.xlabel(\"w\")\n",
    "plt.ylabel(\"h\")\n",
    "plt.plot(ws,hs,'ro')\n",
    "plt.show()"
   ]
  },
  {
   "cell_type": "code",
   "execution_count": null,
   "metadata": {},
   "outputs": [],
   "source": [
    "pd.s"
   ]
  }
 ],
 "metadata": {
  "kernelspec": {
   "display_name": "Python 3",
   "language": "python",
   "name": "python3"
  },
  "language_info": {
   "codemirror_mode": {
    "name": "ipython",
    "version": 3
   },
   "file_extension": ".py",
   "mimetype": "text/x-python",
   "name": "python",
   "nbconvert_exporter": "python",
   "pygments_lexer": "ipython3",
   "version": "3.7.6"
  }
 },
 "nbformat": 4,
 "nbformat_minor": 4
}
